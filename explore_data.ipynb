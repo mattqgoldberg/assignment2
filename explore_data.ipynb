{
 "cells": [
  {
   "cell_type": "markdown",
   "id": "bbe6610c",
   "metadata": {},
   "source": [
    "# MIDI Dataset Exploration\n",
    "This notebook explores the processed MIDI dataset for the melody-to-chord prediction project."
   ]
  },
  {
   "cell_type": "code",
   "execution_count": null,
   "id": "4947798d",
   "metadata": {},
   "outputs": [],
   "source": [
    "import pickle\n",
    "import pandas as pd\n",
    "import numpy as np\n",
    "import matplotlib.pyplot as plt\n",
    "import seaborn as sns\n",
    "from pathlib import Path\n",
    "from collections import Counter, defaultdict\n",
    "\n",
    "# Set up plotting\n",
    "plt.style.use('default')\n",
    "sns.set_palette(\"husl\")\n",
    "%matplotlib inline"
   ]
  },
  {
   "cell_type": "markdown",
   "id": "05e29fa8",
   "metadata": {},
   "source": [
    "## Load Processed Data"
   ]
  },
  {
   "cell_type": "code",
   "execution_count": null,
   "id": "3b6efe0e",
   "metadata": {},
   "outputs": [],
   "source": [
    "# Load processed data\n",
    "data_path = Path('./processed_data/processed_data.pkl')\n",
    "stats_path = Path('./processed_data/processing_stats.pkl')\n",
    "\n",
    "if data_path.exists():\n",
    "    with open(data_path, 'rb') as f:\n",
    "        processed_data = pickle.load(f)\n",
    "    print(f\"Loaded {len(processed_data)} processed MIDI files\")\n",
    "else:\n",
    "    print(\"Processed data not found. Run the data pipeline first.\")\n",
    "    processed_data = []\n",
    "\n",
    "if stats_path.exists():\n",
    "    with open(stats_path, 'rb') as f:\n",
    "        stats = pickle.load(f)\n",
    "    print(f\"Loaded processing statistics\")\n",
    "else:\n",
    "    print(\"Statistics not found.\")\n",
    "    stats = {}"
   ]
  },
  {
   "cell_type": "markdown",
   "id": "8cd3983c",
   "metadata": {},
   "source": [
    "## Dataset Overview"
   ]
  },
  {
   "cell_type": "code",
   "execution_count": null,
   "id": "6730cea9",
   "metadata": {},
   "outputs": [],
   "source": [
    "if processed_data:\n",
    "    # Basic statistics\n",
    "    total_files = len(processed_data)\n",
    "    total_pairs = sum(len(d['aligned_pairs']) for d in processed_data)\n",
    "    \n",
    "    print(f\"Dataset Overview:\")\n",
    "    print(f\"- Total MIDI files processed: {total_files:,}\")\n",
    "    print(f\"- Total melody-chord pairs: {total_pairs:,}\")\n",
    "    print(f\"- Average pairs per file: {total_pairs / total_files:.1f}\")\n",
    "    \n",
    "    # Distribution of pairs per file\n",
    "    pairs_per_file = [len(d['aligned_pairs']) for d in processed_data]\n",
    "    \n",
    "    print(f\"\\nPairs per file statistics:\")\n",
    "    print(f\"- Min: {min(pairs_per_file)}\")\n",
    "    print(f\"- Max: {max(pairs_per_file)}\")\n",
    "    print(f\"- Median: {np.median(pairs_per_file):.1f}\")\n",
    "    print(f\"- 25th percentile: {np.percentile(pairs_per_file, 25):.1f}\")\n",
    "    print(f\"- 75th percentile: {np.percentile(pairs_per_file, 75):.1f}\")"
   ]
  },
  {
   "cell_type": "markdown",
   "id": "d18a5c81",
   "metadata": {},
   "source": [
    "## Data Distribution Analysis"
   ]
  },
  {
   "cell_type": "code",
   "execution_count": null,
   "id": "c9f46768",
   "metadata": {},
   "outputs": [],
   "source": [
    "if processed_data:\n",
    "    # Create a DataFrame from all melody-chord pairs\n",
    "    all_pairs = []\n",
    "    \n",
    "    for file_data in processed_data:\n",
    "        for pair in file_data['aligned_pairs']:\n",
    "            all_pairs.append({\n",
    "                'file_path': file_data['file_path'],\n",
    "                'key_signature': file_data['key_signature'],\n",
    "                'time_signature': file_data['time_signature'],\n",
    "                'melody_pitch': pair['melody_pitch'],\n",
    "                'melody_duration': pair['melody_duration'],\n",
    "                'chord_root': pair['chord_root'],\n",
    "                'chord_quality': pair['chord_quality'],\n",
    "                'chord_duration': pair['chord_duration']\n",
    "            })\n",
    "    \n",
    "    df = pd.DataFrame(all_pairs)\n",
    "    print(f\"Created DataFrame with {len(df):,} melody-chord pairs\")\n",
    "    print(f\"Columns: {list(df.columns)}\")"
   ]
  },
  {
   "cell_type": "markdown",
   "id": "069f8bcc",
   "metadata": {},
   "source": [
    "## Visualization: Key Signatures"
   ]
  },
  {
   "cell_type": "code",
   "execution_count": null,
   "id": "c1ed0b1c",
   "metadata": {},
   "outputs": [],
   "source": [
    "if processed_data:\n",
    "    # Key signature distribution\n",
    "    key_counts = Counter([d['key_signature'] for d in processed_data])\n",
    "    \n",
    "    plt.figure(figsize=(12, 6))\n",
    "    keys = list(key_counts.keys())[:15]  # Top 15 keys\n",
    "    counts = [key_counts[k] for k in keys]\n",
    "    \n",
    "    plt.bar(keys, counts)\n",
    "    plt.title('Distribution of Key Signatures in Dataset')\n",
    "    plt.xlabel('Key Signature')\n",
    "    plt.ylabel('Number of Files')\n",
    "    plt.xticks(rotation=45)\n",
    "    plt.tight_layout()\n",
    "    plt.show()"
   ]
  },
  {
   "cell_type": "markdown",
   "id": "0373ae7f",
   "metadata": {},
   "source": [
    "## Visualization: Chord Distribution"
   ]
  },
  {
   "cell_type": "code",
   "execution_count": null,
   "id": "0f02b891",
   "metadata": {},
   "outputs": [],
   "source": [
    "if 'df' in locals() and not df.empty:\n",
    "    # Chord quality distribution\n",
    "    chord_quality_counts = df['chord_quality'].value_counts()\n",
    "    \n",
    "    plt.figure(figsize=(10, 6))\n",
    "    chord_quality_counts.head(10).plot(kind='bar')\n",
    "    plt.title('Top 10 Chord Qualities in Dataset')\n",
    "    plt.xlabel('Chord Quality')\n",
    "    plt.ylabel('Frequency')\n",
    "    plt.xticks(rotation=45)\n",
    "    plt.tight_layout()\n",
    "    plt.show()\n",
    "    \n",
    "    # Chord root distribution\n",
    "    chord_root_counts = df['chord_root'].value_counts()\n",
    "    \n",
    "    plt.figure(figsize=(10, 6))\n",
    "    chord_root_counts.plot(kind='bar')\n",
    "    plt.title('Chord Root Distribution in Dataset')\n",
    "    plt.xlabel('Chord Root')\n",
    "    plt.ylabel('Frequency')\n",
    "    plt.xticks(rotation=0)\n",
    "    plt.tight_layout()\n",
    "    plt.show()"
   ]
  },
  {
   "cell_type": "markdown",
   "id": "a0dfc50f",
   "metadata": {},
   "source": [
    "## Visualization: Melody Pitch Distribution"
   ]
  },
  {
   "cell_type": "code",
   "execution_count": null,
   "id": "60bacd8c",
   "metadata": {},
   "outputs": [],
   "source": [
    "if 'df' in locals() and not df.empty:\n",
    "    # Melody pitch distribution\n",
    "    plt.figure(figsize=(12, 6))\n",
    "    plt.hist(df['melody_pitch'], bins=50, alpha=0.7, edgecolor='black')\n",
    "    plt.title('Distribution of Melody Pitches (MIDI Note Numbers)')\n",
    "    plt.xlabel('MIDI Note Number')\n",
    "    plt.ylabel('Frequency')\n",
    "    \n",
    "    # Add some reference lines for common octaves\n",
    "    plt.axvline(x=60, color='red', linestyle='--', alpha=0.7, label='Middle C (C4)')\n",
    "    plt.axvline(x=72, color='orange', linestyle='--', alpha=0.7, label='C5')\n",
    "    plt.axvline(x=48, color='blue', linestyle='--', alpha=0.7, label='C3')\n",
    "    \n",
    "    plt.legend()\n",
    "    plt.tight_layout()\n",
    "    plt.show()\n",
    "    \n",
    "    print(f\"Melody pitch statistics:\")\n",
    "    print(f\"- Range: {df['melody_pitch'].min()} to {df['melody_pitch'].max()}\")\n",
    "    print(f\"- Mean: {df['melody_pitch'].mean():.1f}\")\n",
    "    print(f\"- Median: {df['melody_pitch'].median():.1f}\")"
   ]
  },
  {
   "cell_type": "markdown",
   "id": "93a10f79",
   "metadata": {},
   "source": [
    "## Duration Analysis"
   ]
  },
  {
   "cell_type": "code",
   "execution_count": null,
   "id": "fe5d36db",
   "metadata": {},
   "outputs": [],
   "source": [
    "if 'df' in locals() and not df.empty:\n",
    "    # Duration analysis\n",
    "    fig, (ax1, ax2) = plt.subplots(1, 2, figsize=(15, 5))\n",
    "    \n",
    "    # Melody durations\n",
    "    ax1.hist(df['melody_duration'], bins=30, alpha=0.7, edgecolor='black')\n",
    "    ax1.set_title('Distribution of Melody Note Durations')\n",
    "    ax1.set_xlabel('Duration (Quarter Notes)')\n",
    "    ax1.set_ylabel('Frequency')\n",
    "    ax1.axvline(x=1.0, color='red', linestyle='--', alpha=0.7, label='Quarter Note')\n",
    "    ax1.axvline(x=0.5, color='orange', linestyle='--', alpha=0.7, label='Eighth Note')\n",
    "    ax1.legend()\n",
    "    \n",
    "    # Chord durations\n",
    "    ax2.hist(df['chord_duration'], bins=30, alpha=0.7, edgecolor='black')\n",
    "    ax2.set_title('Distribution of Chord Durations')\n",
    "    ax2.set_xlabel('Duration (Quarter Notes)')\n",
    "    ax2.set_ylabel('Frequency')\n",
    "    ax2.axvline(x=1.0, color='red', linestyle='--', alpha=0.7, label='Quarter Note')\n",
    "    ax2.axvline(x=4.0, color='blue', linestyle='--', alpha=0.7, label='Whole Note')\n",
    "    ax2.legend()\n",
    "    \n",
    "    plt.tight_layout()\n",
    "    plt.show()"
   ]
  },
  {
   "cell_type": "markdown",
   "id": "cc037535",
   "metadata": {},
   "source": [
    "## Chord Progression Patterns"
   ]
  },
  {
   "cell_type": "code",
   "execution_count": null,
   "id": "d9d2d71c",
   "metadata": {},
   "outputs": [],
   "source": [
    "if processed_data:\n",
    "    # Analyze chord progressions\n",
    "    chord_transitions = []\n",
    "    \n",
    "    for file_data in processed_data[:100]:  # Sample first 100 files for performance\n",
    "        pairs = file_data['aligned_pairs']\n",
    "        if len(pairs) > 1:\n",
    "            for i in range(len(pairs) - 1):\n",
    "                current_chord = f\"{pairs[i]['chord_root']}_{pairs[i]['chord_quality']}\"\n",
    "                next_chord = f\"{pairs[i+1]['chord_root']}_{pairs[i+1]['chord_quality']}\"\n",
    "                chord_transitions.append((current_chord, next_chord))\n",
    "    \n",
    "    # Count most common transitions\n",
    "    transition_counts = Counter(chord_transitions)\n",
    "    top_transitions = transition_counts.most_common(20)\n",
    "    \n",
    "    print(\"Top 20 Chord Transitions:\")\n",
    "    for i, ((from_chord, to_chord), count) in enumerate(top_transitions, 1):\n",
    "        print(f\"{i:2d}. {from_chord:15} → {to_chord:15} ({count:3d} times)\")"
   ]
  },
  {
   "cell_type": "markdown",
   "id": "a4d1d8c6",
   "metadata": {},
   "source": [
    "## Sample Data Inspection"
   ]
  },
  {
   "cell_type": "code",
   "execution_count": null,
   "id": "5a558d49",
   "metadata": {},
   "outputs": [],
   "source": [
    "if processed_data:\n",
    "    # Show a sample of the data\n",
    "    print(\"Sample file data structure:\")\n",
    "    sample_file = processed_data[0]\n",
    "    \n",
    "    print(f\"\\nFile: {sample_file['file_path']}\")\n",
    "    print(f\"Key: {sample_file['key_signature']}\")\n",
    "    print(f\"Time Signature: {sample_file['time_signature']}\")\n",
    "    print(f\"Total melody notes: {sample_file['total_melody_notes']}\")\n",
    "    print(f\"Total chords: {sample_file['total_chords']}\")\n",
    "    print(f\"Aligned pairs: {len(sample_file['aligned_pairs'])}\")\n",
    "    \n",
    "    print(f\"\\nFirst 5 melody-chord pairs:\")\n",
    "    for i, pair in enumerate(sample_file['aligned_pairs'][:5]):\n",
    "        melody_note = pair['melody_pitch']\n",
    "        chord = f\"{pair['chord_root']} {pair['chord_quality']}\"\n",
    "        print(f\"  {i+1}. Melody: MIDI {melody_note:3d} → Chord: {chord}\")"
   ]
  },
  {
   "cell_type": "markdown",
   "id": "0cda1513",
   "metadata": {},
   "source": [
    "## Processing Statistics"
   ]
  },
  {
   "cell_type": "code",
   "execution_count": null,
   "id": "40aeaf96",
   "metadata": {},
   "outputs": [],
   "source": [
    "if stats:\n",
    "    print(\"Processing Statistics:\")\n",
    "    print(f\"- Files processed successfully: {stats.get('total_files_processed', 'N/A')}\")\n",
    "    print(f\"- Files failed: {stats.get('total_files_failed', 'N/A')}\")\n",
    "    print(f\"- Total melody-chord pairs: {stats.get('total_melody_chord_pairs', 'N/A')}\")\n",
    "    \n",
    "    if 'chord_distribution' in stats:\n",
    "        print(f\"\\nTop chord types in dataset:\")\n",
    "        for chord, count in list(stats['chord_distribution'].items())[:10]:\n",
    "            print(f\"  {chord}: {count}\")\n",
    "    \n",
    "    if 'key_distribution' in stats:\n",
    "        print(f\"\\nTop key signatures in dataset:\")\n",
    "        for key, count in list(stats['key_distribution'].items())[:10]:\n",
    "            print(f\"  {key}: {count}\")"
   ]
  },
  {
   "cell_type": "markdown",
   "id": "be7b7420",
   "metadata": {},
   "source": [
    "## Next Steps\n",
    "\n",
    "Based on this data exploration, here are the next steps for building the melody-to-chord model:\n",
    "\n",
    "1. **Feature Engineering**: Convert raw data into model-ready features\n",
    "2. **Sequence Preparation**: Create input-output sequences for training\n",
    "3. **Vocabulary Building**: Create mappings for notes and chords\n",
    "4. **Data Splitting**: Train/validation/test splits\n",
    "5. **Model Architecture**: Implement the Transformer-based model\n",
    "6. **Training Pipeline**: Set up training loop with proper metrics"
   ]
  }
 ],
 "metadata": {
  "language_info": {
   "name": "python"
  }
 },
 "nbformat": 4,
 "nbformat_minor": 5
}
